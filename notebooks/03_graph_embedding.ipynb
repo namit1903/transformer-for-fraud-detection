{
 "cells": [
  {
   "cell_type": "code",
   "execution_count": null,
   "metadata": {
    "colab": {
     "base_uri": "https://localhost:8080/"
    },
    "executionInfo": {
     "elapsed": 52856,
     "status": "ok",
     "timestamp": 1745063029126,
     "user": {
      "displayName": "Namit",
      "userId": "08031843768376211005"
     },
     "user_tz": -330
    },
    "id": "Qk7nhaCT2ta6",
    "outputId": "daf2ce6b-94b0-44b3-fe37-50c492f9e6ae"
   },
   "outputs": [
    {
     "name": "stdout",
     "output_type": "stream",
     "text": [
      "Mounted at /content/drive\n"
     ]
    }
   ],
   "source": [
    "\n",
    "from google.colab import drive\n",
    "drive.mount('/content/drive')"
   ]
  },
  {
   "cell_type": "code",
   "execution_count": null,
   "metadata": {
    "colab": {
     "base_uri": "https://localhost:8080/"
    },
    "executionInfo": {
     "elapsed": 9345,
     "status": "ok",
     "timestamp": 1745063286210,
     "user": {
      "displayName": "Namit",
      "userId": "08031843768376211005"
     },
     "user_tz": -330
    },
    "id": "KNcKITFf3a4-",
    "outputId": "06ed51cd-f0a2-479c-86d4-9d2690c5408b"
   },
   "outputs": [],
   "source": [
    "# !pip install --upgrade numpy\n",
    "import numpy as np\n",
    "print(np.__version__)  # Version used when saving"
   ]
  },
  {
   "cell_type": "code",
   "execution_count": null,
   "metadata": {
    "colab": {
     "base_uri": "https://localhost:8080/",
     "height": 688
    },
    "executionInfo": {
     "elapsed": 31471,
     "status": "error",
     "timestamp": 1745063077067,
     "user": {
      "displayName": "Namit",
      "userId": "08031843768376211005"
     },
     "user_tz": -330
    },
    "id": "osiSratQ2rLA",
    "outputId": "ef8eb605-0464-42b7-b6b5-7dbbd9a165d7"
   },
   "outputs": [],
   "source": [
    "#  Install libraries (same as before)\n",
    "!pip install torch-scatter -f https://data.pyg.org/whl/torch-2.1.0+cu118.html -q\n",
    "!pip install torch-geometric -q\n",
    "!pip install networkx -q\n",
    "\n",
    "# Load raw + processed data\n",
    "import pandas as pd\n",
    "import networkx as nx\n",
    "import torch\n",
    "from torch_geometric.data import Data\n",
    "import os\n",
    "\n",
    "root = \"/content/drive/MyDrive/FraudBehaviorEmbeddings\"\n",
    "\n",
    "cdr = pd.read_csv(os.path.join(root, \"data/raw/Simulated_CDR_IPDR_Logs.csv\"))\n",
    "rtm = pd.read_csv(os.path.join(root, \"data/raw/Simulated_RTM_Logs.csv\"))\n",
    "transformer_df = pd.read_pickle(os.path.join(root, \"data/processed/transformer_input.pkl\"))\n",
    "\n",
    "# Create base graph\n",
    "G = nx.Graph()\n",
    "\n",
    "# Add subscriber nodes\n",
    "subscribers = set(cdr['subscriber_id']) | set(rtm['subscriber_id'])\n",
    "G.add_nodes_from(subscribers, node_type='user')\n",
    "\n",
    "# Add app nodes and edges from RTM logs\n",
    "for _, row in rtm.iterrows():\n",
    "    user = row['subscriber_id']\n",
    "    app = row['app']\n",
    "    G.add_node(app, node_type='app')\n",
    "    G.add_edge(user, app, duration=row['duration_sec'])\n",
    "\n",
    "# Add destination domain nodes and edges from CDR logs\n",
    "for _, row in cdr.iterrows():\n",
    "    user = row['subscriber_id']\n",
    "    domain = row['destination']\n",
    "    G.add_node(domain, node_type='domain')\n",
    "    G.add_edge(user, domain, duration=row['duration_sec'])\n",
    "\n",
    "#  Create enriched node features using transformer_input.pkl\n",
    "# We'll use:\n",
    "# - Length of behavior sequence\n",
    "# - Number of unique actions\n",
    "# - Node type one-hot\n",
    "\n",
    "import numpy as np\n",
    "\n",
    "# Step 4.1: Map user behavior stats\n",
    "behavior_map = {}\n",
    "for _, row in transformer_df.iterrows():\n",
    "    user = row['subscriber_id']\n",
    "    actions = row['padded_sequence']\n",
    "    behavior_map[user] = {\n",
    "        \"length\": len(actions),\n",
    "        \"unique\": len(set(actions))\n",
    "    }\n",
    "\n",
    "# Step 4.2: Assign feature vector to each node\n",
    "for node in G.nodes():\n",
    "    node_type = G.nodes[node]['node_type']\n",
    "\n",
    "    # One-hot: [user, app, domain]\n",
    "    one_hot = [int(node_type == 'user'), int(node_type == 'app'), int(node_type == 'domain')]\n",
    "\n",
    "    if node_type == 'user':\n",
    "        length = behavior_map.get(node, {}).get(\"length\", 0)\n",
    "        unique = behavior_map.get(node, {}).get(\"unique\", 0)\n",
    "        G.nodes[node]['x'] = [length, unique] + one_hot\n",
    "    else:\n",
    "        # For app/domain, just use dummy feature + one-hot\n",
    "        G.nodes[node]['x'] = [1.0, 1.0] + one_hot\n",
    "\n",
    "# Convert to PyG Data\n",
    "from torch_geometric.utils import from_networkx\n",
    "\n",
    "pyg_graph = from_networkx(G)\n",
    "print(pyg_graph)\n",
    "\n",
    "#  GraphSAGE model\n",
    "import torch.nn.functional as F\n",
    "import torch.nn as nn\n",
    "from torch_geometric.nn import SAGEConv\n",
    "\n",
    "class GraphSAGEModel(nn.Module):\n",
    "    def __init__(self, in_channels, hidden_channels, out_channels):\n",
    "        super(GraphSAGEModel, self).__init__()\n",
    "        self.conv1 = SAGEConv(in_channels, hidden_channels)\n",
    "        self.conv2 = SAGEConv(hidden_channels, out_channels)\n",
    "\n",
    "    def forward(self, x, edge_index):\n",
    "        x = self.conv1(x, edge_index)\n",
    "        x = F.relu(x)\n",
    "        x = self.conv2(x, edge_index)\n",
    "        return x\n",
    "\n",
    "model = GraphSAGEModel(in_channels=6, hidden_channels=32, out_channels=16)  # 6 = [length, unique, one-hot(3)]\n",
    "optimizer = torch.optim.Adam(model.parameters(), lr=0.01)\n",
    "\n",
    "# Training loop\n",
    "def train():\n",
    "    model.train()\n",
    "    optimizer.zero_grad()\n",
    "    out = model(pyg_graph.x.float(), pyg_graph.edge_index)\n",
    "    loss = ((out - out.mean())**2).sum()  # dummy unsupervised loss\n",
    "    loss.backward()\n",
    "    optimizer.step()\n",
    "    return loss.item()\n",
    "\n",
    "for epoch in range(1, 101):\n",
    "    loss = train()\n",
    "    if epoch % 10 == 0:\n",
    "        print(f\"Epoch {epoch}, Loss: {loss:.4f}\")\n",
    "\n",
    "# Save embeddings\n",
    "embeddings = model(pyg_graph.x.float(), pyg_graph.edge_index).detach().numpy()\n",
    "np.save(os.path.join(root, \"data/processed/graphsage_embeddings_enriched.npy\"), embeddings)\n",
    "print(\"Enriched GraphSAGE embeddings saved!!\")\n"
   ]
  }
 ],
 "metadata": {
  "colab": {
   "authorship_tag": "ABX9TyPuOxGfbCBIgZXxbjFk6i8v",
   "provenance": []
  },
  "kernelspec": {
   "display_name": "Python 3",
   "name": "python3"
  },
  "language_info": {
   "name": "python"
  }
 },
 "nbformat": 4,
 "nbformat_minor": 0
}
